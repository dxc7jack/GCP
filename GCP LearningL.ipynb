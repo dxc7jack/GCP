{
 "cells": [
  {
   "cell_type": "code",
   "execution_count": 1,
   "id": "bb1c231d-0b1e-4f34-979b-19db311eb343",
   "metadata": {},
   "outputs": [],
   "source": [
    "# %pip list"
   ]
  },
  {
   "cell_type": "code",
   "execution_count": 1,
   "id": "a0f491d4-3e07-43a7-860a-9c99583f6c2b",
   "metadata": {},
   "outputs": [],
   "source": [
    "import pandas as pd"
   ]
  },
  {
   "cell_type": "code",
   "execution_count": 3,
   "id": "e1bcb111-866e-409e-9ace-ee96629b553e",
   "metadata": {},
   "outputs": [],
   "source": [
    "# %%bigquery\n",
    "# SELECT * FROM `bigquery-public-data.san_francisco_trees.street_trees` LIMIT 10"
   ]
  },
  {
   "cell_type": "code",
   "execution_count": 4,
   "id": "5a2b07f3-c05e-4c90-ab8b-efcce798ea8a",
   "metadata": {},
   "outputs": [],
   "source": [
    "# %%bigquery df_tree\n",
    "# SELECT species, count(*) as count, min(plant_date) as min_date, max(plant_date) as max_date \n",
    "# FROM `bigquery-public-data.san_francisco_trees.street_trees`\n",
    "# group by 1 LIMIT 10"
   ]
  },
  {
   "cell_type": "code",
   "execution_count": 5,
   "id": "01f8ff40-50ec-4a71-99d7-2dd29515bcf5",
   "metadata": {},
   "outputs": [],
   "source": [
    "# df_tree"
   ]
  },
  {
   "cell_type": "code",
   "execution_count": 19,
   "id": "5db65cb8-dfa6-4feb-aaea-5c3f956d8d6c",
   "metadata": {},
   "outputs": [],
   "source": [
    "REGION = 'us-central1'\n",
    "PROJECT_ID = 'gcp-demo1-362917'\n",
    "DATANAME = 'fraud'\n",
    "NOTEBOOK = '01'\n",
    "\n",
    "BQ_SOURCE = 'bigquery-public-data.ml_datasets.ulb_fraud_detection'"
   ]
  },
  {
   "cell_type": "code",
   "execution_count": 2,
   "id": "26650f32-4042-41b7-b932-a46b47b5109b",
   "metadata": {},
   "outputs": [],
   "source": [
    "from google.cloud import storage\n",
    "from google.cloud import bigquery\n",
    "import pandas as pd\n",
    "from sklearn import datasets"
   ]
  },
  {
   "cell_type": "code",
   "execution_count": 13,
   "id": "1118f890-1e17-4a8b-8d34-4a7577bb1dfc",
   "metadata": {},
   "outputs": [],
   "source": [
    "# Create a bucket in storage, bucket is a folder, name is gcp-demo1-362917\n",
    "\n",
    "BUCKET = PROJECT_ID\n",
    "\n",
    "gcs = storage.Client(project = PROJECT_ID)\n",
    "\n",
    "if not gcs.lookup_bucket(BUCKET):\n",
    "    bucketDef = gcs.bucket(BUCKET)\n",
    "    bucket = gcs.create_bucket(bucketDef, project = PROJECT_ID, location = REGION)\n",
    "    print(bucket)\n",
    "else:\n",
    "    print(gcs.lookup_bucket(BUCKET))"
   ]
  },
  {
   "cell_type": "code",
   "execution_count": 18,
   "id": "276d1694-1e08-4eab-a31e-cd429c9f1208",
   "metadata": {},
   "outputs": [
    {
     "data": {
      "text/plain": [
       "ExtractJob<project=gcp-demo1-362917, location=US, id=0d01e539-f3d1-4de4-b8ac-073f2dc4e2d8>"
      ]
     },
     "execution_count": 18,
     "metadata": {},
     "output_type": "execute_result"
    }
   ],
   "source": [
    "# storage data in that bucket\n",
    "# 1. create a client that goes to bigquery\n",
    "bq = bigquery.Client(project = PROJECT_ID)\n",
    "\n",
    "# 2. create destination in  bucket gcp-demo1-362917, and create a folder 'fraud', and create sub-folder name 'data', storage fraud.csv\n",
    "destination = f\"gs://{BUCKET}/{DATANAME}/data/{DATANAME}.csv\"\n",
    "\n",
    "# 3. source from BQ_SOURCE = 'bigquery-public-data.ml_datasets.ulb_fraud_detection'\n",
    "source = bigquery.TableReference.from_string(BQ_SOURCE)\n",
    "\n",
    "# 4. move the data\n",
    "extract = bq.extract_table(source, destination)\n",
    "\n",
    "extract.result()"
   ]
  },
  {
   "cell_type": "code",
   "execution_count": 37,
   "id": "c5365a3d-bba5-41e2-ae12-78dfc0c28e7d",
   "metadata": {},
   "outputs": [
    {
     "name": "stdout",
     "output_type": "stream",
     "text": [
      "[<google.cloud.bigquery.dataset.DatasetListItem object at 0x7f0e65c18b10>]\n",
      "fraud\n",
      "fraud\n"
     ]
    }
   ],
   "source": [
    "# Bigquery is like a data warehouse --> project --> datasets --> tables\n",
    "\n",
    "# 1. List BigQuery datasets in the project, since just started project, no datsets in project\n",
    "datasets = list(bq.list_datasets())\n",
    "print(datasets)\n",
    "for d in datasets:\n",
    "    print(d.dataset_id)\n",
    "\n",
    "# 2. if no datasets there, then create dataset fraud\n",
    "ds = bigquery.Dataset(f\"{PROJECT_ID}.{DATANAME}\")\n",
    "ds.location = REGION\n",
    "ds.labels = {'experiment': f'{NOTEBOOK}'}\n",
    "ds = bq.create_dataset(dataset = ds, exists_ok = True)\n",
    "\n",
    "# 3. check again\n",
    "datasets = list(bq.list_datasets())\n",
    "for d in datasets:\n",
    "    print(d.dataset_id)\n"
   ]
  },
  {
   "cell_type": "code",
   "execution_count": 38,
   "id": "fbdc5fc8-ccce-4435-a699-995e67dd2dbd",
   "metadata": {},
   "outputs": [
    {
     "name": "stdout",
     "output_type": "stream",
     "text": [
      "Creating Table ...\n",
      "Finished creating table: gcp-demo1-362917.fraud.fraud\n"
     ]
    }
   ],
   "source": [
    "# now dataset or schema 'fraud' created, but no tables in there.\n",
    "\n",
    "# need to get data from google cloud storage, bring to bigquery as table\n",
    "\n",
    "# table 's destination is: go to big query-->project_id--> schema fraud -->filename\n",
    "\n",
    "# bigquery.LoadJobConfig can put data from storage to bigquery\n",
    "\n",
    "# load \n",
    "\n",
    "from google.cloud.exceptions import NotFound\n",
    "try:\n",
    "    table = bq.get_table(f'{PROJECT_ID}.{DATANAME}.{DATANAME}')\n",
    "    if table:\n",
    "        print(f'The table already exists: {PROJECT_ID}.{DATANAME}.{DATANAME}')\n",
    "except NotFound as error:\n",
    "    print(f'Creating Table ...')\n",
    "    destination = bigquery.TableReference.from_string(f\"{PROJECT_ID}.{DATANAME}.{DATANAME}\")\n",
    "    job_config = bigquery.LoadJobConfig(\n",
    "        write_disposition = 'WRITE_TRUNCATE',\n",
    "        source_format = bigquery.SourceFormat.CSV,\n",
    "        autodetect = True,\n",
    "        labels = {'experiment': f'{NOTEBOOK}'}\n",
    "    )\n",
    "    job = bq.load_table_from_uri(f\"gs://{BUCKET}/{DATANAME}/data/{DATANAME}.csv\", destination, job_config = job_config)\n",
    "    job.result()\n",
    "    print(f'Finished creating table: {PROJECT_ID}.{DATANAME}.{DATANAME}')"
   ]
  },
  {
   "cell_type": "code",
   "execution_count": 39,
   "id": "6d7d87b3-51f0-4778-a506-ae4adc5b25c0",
   "metadata": {},
   "outputs": [
    {
     "name": "stderr",
     "output_type": "stream",
     "text": [
      "Query complete after 0.03s: 100%|██████████| 1/1 [00:00<00:00, 156.54query/s]                          \n",
      "Downloading: 100%|██████████| 10/10 [00:01<00:00, 10.00rows/s]\n"
     ]
    }
   ],
   "source": [
    "# create dataframe temp\n",
    "%%bigquery temp\n",
    "\n",
    "SELECT * FROM `gcp-demo1-362917.fraud.fraud` LIMIT 10"
   ]
  },
  {
   "cell_type": "code",
   "execution_count": 40,
   "id": "bce091a0-f99d-4770-86af-1176551304f7",
   "metadata": {},
   "outputs": [
    {
     "data": {
      "text/html": [
       "<div>\n",
       "<style scoped>\n",
       "    .dataframe tbody tr th:only-of-type {\n",
       "        vertical-align: middle;\n",
       "    }\n",
       "\n",
       "    .dataframe tbody tr th {\n",
       "        vertical-align: top;\n",
       "    }\n",
       "\n",
       "    .dataframe thead th {\n",
       "        text-align: right;\n",
       "    }\n",
       "</style>\n",
       "<table border=\"1\" class=\"dataframe\">\n",
       "  <thead>\n",
       "    <tr style=\"text-align: right;\">\n",
       "      <th></th>\n",
       "      <th>Time</th>\n",
       "      <th>V1</th>\n",
       "      <th>V2</th>\n",
       "      <th>V3</th>\n",
       "      <th>V4</th>\n",
       "      <th>V5</th>\n",
       "      <th>V6</th>\n",
       "      <th>V7</th>\n",
       "      <th>V8</th>\n",
       "      <th>V9</th>\n",
       "      <th>...</th>\n",
       "      <th>V21</th>\n",
       "      <th>V22</th>\n",
       "      <th>V23</th>\n",
       "      <th>V24</th>\n",
       "      <th>V25</th>\n",
       "      <th>V26</th>\n",
       "      <th>V27</th>\n",
       "      <th>V28</th>\n",
       "      <th>Amount</th>\n",
       "      <th>Class</th>\n",
       "    </tr>\n",
       "  </thead>\n",
       "  <tbody>\n",
       "    <tr>\n",
       "      <th>0</th>\n",
       "      <td>282</td>\n",
       "      <td>-0.356466</td>\n",
       "      <td>0.725418</td>\n",
       "      <td>1.971749</td>\n",
       "      <td>0.831343</td>\n",
       "      <td>0.369681</td>\n",
       "      <td>-0.107776</td>\n",
       "      <td>0.751610</td>\n",
       "      <td>-0.120166</td>\n",
       "      <td>-0.420675</td>\n",
       "      <td>...</td>\n",
       "      <td>0.020804</td>\n",
       "      <td>0.424312</td>\n",
       "      <td>-0.015989</td>\n",
       "      <td>0.466754</td>\n",
       "      <td>-0.809962</td>\n",
       "      <td>0.657334</td>\n",
       "      <td>-0.043150</td>\n",
       "      <td>-0.046401</td>\n",
       "      <td>0.0</td>\n",
       "      <td>0</td>\n",
       "    </tr>\n",
       "    <tr>\n",
       "      <th>1</th>\n",
       "      <td>380</td>\n",
       "      <td>-1.299837</td>\n",
       "      <td>0.881817</td>\n",
       "      <td>1.452842</td>\n",
       "      <td>-1.293698</td>\n",
       "      <td>-0.025105</td>\n",
       "      <td>-1.170103</td>\n",
       "      <td>0.861610</td>\n",
       "      <td>-0.193934</td>\n",
       "      <td>0.592001</td>\n",
       "      <td>...</td>\n",
       "      <td>-0.272563</td>\n",
       "      <td>-0.360853</td>\n",
       "      <td>0.223911</td>\n",
       "      <td>0.598930</td>\n",
       "      <td>-0.397705</td>\n",
       "      <td>0.637141</td>\n",
       "      <td>0.234872</td>\n",
       "      <td>0.021379</td>\n",
       "      <td>0.0</td>\n",
       "      <td>0</td>\n",
       "    </tr>\n",
       "    <tr>\n",
       "      <th>2</th>\n",
       "      <td>820</td>\n",
       "      <td>-0.937481</td>\n",
       "      <td>0.401649</td>\n",
       "      <td>1.882689</td>\n",
       "      <td>-0.362001</td>\n",
       "      <td>0.751088</td>\n",
       "      <td>-0.899262</td>\n",
       "      <td>0.880557</td>\n",
       "      <td>-0.181650</td>\n",
       "      <td>-0.211657</td>\n",
       "      <td>...</td>\n",
       "      <td>-0.001757</td>\n",
       "      <td>0.097379</td>\n",
       "      <td>-0.324050</td>\n",
       "      <td>0.436521</td>\n",
       "      <td>0.509674</td>\n",
       "      <td>0.454116</td>\n",
       "      <td>-0.201804</td>\n",
       "      <td>-0.175439</td>\n",
       "      <td>0.0</td>\n",
       "      <td>0</td>\n",
       "    </tr>\n",
       "    <tr>\n",
       "      <th>3</th>\n",
       "      <td>1193</td>\n",
       "      <td>1.130646</td>\n",
       "      <td>0.625391</td>\n",
       "      <td>0.837987</td>\n",
       "      <td>2.506543</td>\n",
       "      <td>-0.107116</td>\n",
       "      <td>-0.245548</td>\n",
       "      <td>0.099603</td>\n",
       "      <td>-0.041457</td>\n",
       "      <td>-0.867319</td>\n",
       "      <td>...</td>\n",
       "      <td>-0.017154</td>\n",
       "      <td>-0.014311</td>\n",
       "      <td>0.086559</td>\n",
       "      <td>0.393496</td>\n",
       "      <td>0.332062</td>\n",
       "      <td>-0.066378</td>\n",
       "      <td>0.013858</td>\n",
       "      <td>0.025382</td>\n",
       "      <td>0.0</td>\n",
       "      <td>0</td>\n",
       "    </tr>\n",
       "    <tr>\n",
       "      <th>4</th>\n",
       "      <td>2371</td>\n",
       "      <td>-0.878833</td>\n",
       "      <td>0.133657</td>\n",
       "      <td>2.534047</td>\n",
       "      <td>2.609811</td>\n",
       "      <td>1.510839</td>\n",
       "      <td>2.075778</td>\n",
       "      <td>-0.384729</td>\n",
       "      <td>0.230300</td>\n",
       "      <td>-0.367956</td>\n",
       "      <td>...</td>\n",
       "      <td>-0.296422</td>\n",
       "      <td>-0.255485</td>\n",
       "      <td>-0.583298</td>\n",
       "      <td>-1.677514</td>\n",
       "      <td>0.050524</td>\n",
       "      <td>0.250409</td>\n",
       "      <td>-0.223149</td>\n",
       "      <td>-0.420764</td>\n",
       "      <td>0.0</td>\n",
       "      <td>0</td>\n",
       "    </tr>\n",
       "  </tbody>\n",
       "</table>\n",
       "<p>5 rows × 31 columns</p>\n",
       "</div>"
      ],
      "text/plain": [
       "   Time        V1        V2        V3        V4        V5        V6        V7  \\\n",
       "0   282 -0.356466  0.725418  1.971749  0.831343  0.369681 -0.107776  0.751610   \n",
       "1   380 -1.299837  0.881817  1.452842 -1.293698 -0.025105 -1.170103  0.861610   \n",
       "2   820 -0.937481  0.401649  1.882689 -0.362001  0.751088 -0.899262  0.880557   \n",
       "3  1193  1.130646  0.625391  0.837987  2.506543 -0.107116 -0.245548  0.099603   \n",
       "4  2371 -0.878833  0.133657  2.534047  2.609811  1.510839  2.075778 -0.384729   \n",
       "\n",
       "         V8        V9  ...       V21       V22       V23       V24       V25  \\\n",
       "0 -0.120166 -0.420675  ...  0.020804  0.424312 -0.015989  0.466754 -0.809962   \n",
       "1 -0.193934  0.592001  ... -0.272563 -0.360853  0.223911  0.598930 -0.397705   \n",
       "2 -0.181650 -0.211657  ... -0.001757  0.097379 -0.324050  0.436521  0.509674   \n",
       "3 -0.041457 -0.867319  ... -0.017154 -0.014311  0.086559  0.393496  0.332062   \n",
       "4  0.230300 -0.367956  ... -0.296422 -0.255485 -0.583298 -1.677514  0.050524   \n",
       "\n",
       "        V26       V27       V28  Amount  Class  \n",
       "0  0.657334 -0.043150 -0.046401     0.0      0  \n",
       "1  0.637141  0.234872  0.021379     0.0      0  \n",
       "2  0.454116 -0.201804 -0.175439     0.0      0  \n",
       "3 -0.066378  0.013858  0.025382     0.0      0  \n",
       "4  0.250409 -0.223149 -0.420764     0.0      0  \n",
       "\n",
       "[5 rows x 31 columns]"
      ]
     },
     "execution_count": 40,
     "metadata": {},
     "output_type": "execute_result"
    }
   ],
   "source": [
    "temp.head()\n",
    "# temp.dtypes"
   ]
  },
  {
   "cell_type": "markdown",
   "id": "ba4ed141-b9d4-40c7-8ff5-623c7c8c8e89",
   "metadata": {},
   "source": [
    "# Review Data"
   ]
  },
  {
   "cell_type": "code",
   "execution_count": 3,
   "id": "85cf9eeb-0465-4109-a8eb-5d2f23db4421",
   "metadata": {},
   "outputs": [
    {
     "name": "stderr",
     "output_type": "stream",
     "text": [
      "Query complete after 0.02s: 100%|██████████| 2/2 [00:00<00:00, 323.04query/s]                         \n",
      "Downloading: 100%|██████████| 284807/284807 [00:02<00:00, 134927.30rows/s]\n"
     ]
    }
   ],
   "source": [
    "%%bigquery df\n",
    "\n",
    "SELECT * FROM `gcp-demo1-362917.fraud.fraud`"
   ]
  },
  {
   "cell_type": "code",
   "execution_count": 4,
   "id": "d4c55409-dc71-41e6-986b-3749d714179b",
   "metadata": {},
   "outputs": [
    {
     "data": {
      "text/plain": [
       "0    284315\n",
       "1       492\n",
       "Name: Class, dtype: int64"
      ]
     },
     "execution_count": 4,
     "metadata": {},
     "output_type": "execute_result"
    }
   ],
   "source": [
    "df['Class'].value_counts()"
   ]
  },
  {
   "cell_type": "code",
   "execution_count": 5,
   "id": "a24fd10d-e0c8-449b-8393-55a8ff5c36d4",
   "metadata": {},
   "outputs": [
    {
     "data": {
      "text/plain": [
       "0    0.998273\n",
       "1    0.001727\n",
       "Name: Class, dtype: float64"
      ]
     },
     "execution_count": 5,
     "metadata": {},
     "output_type": "execute_result"
    }
   ],
   "source": [
    "df['Class'].value_counts(normalize = True)"
   ]
  },
  {
   "cell_type": "code",
   "execution_count": 6,
   "id": "eda7ab66-b2ad-4c49-8f5d-3b9d6f0da660",
   "metadata": {},
   "outputs": [
    {
     "name": "stderr",
     "output_type": "stream",
     "text": [
      "Query complete after 0.01s: 100%|██████████| 3/3 [00:00<00:00, 330.99query/s]                         \n"
     ]
    }
   ],
   "source": [
    "# Create table in bigquery\n",
    "%%bigquery query\n",
    "\n",
    "create or replace table fraud.fraud_prepped as \n",
    "with add_id as (select *, generate_uuid() as transaction_id from fraud.fraud)\n",
    "\n",
    "select *,\n",
    "        CASE\n",
    "            WHEN MOD(ABS(FARM_FINGERPRINT(transaction_id)),10) < 8 then 'TRAIN'\n",
    "            WHEN MOD(ABS(FARM_FINGERPRINT(transaction_id)),10) < 9 then 'VALIDATE'\n",
    "            ELSE 'TEST'\n",
    "        END AS splits\n",
    "FROM add_id"
   ]
  },
  {
   "cell_type": "code",
   "execution_count": 7,
   "id": "8c20ebe5-9125-4e3b-b161-7cbba2939e4d",
   "metadata": {},
   "outputs": [
    {
     "name": "stderr",
     "output_type": "stream",
     "text": [
      "Query complete after 0.01s: 100%|██████████| 5/5 [00:00<00:00, 1028.07query/s]                        \n",
      "Downloading: 100%|██████████| 3/3 [00:01<00:00,  2.52rows/s]\n"
     ]
    }
   ],
   "source": [
    "%%bigquery query\n",
    "\n",
    "SELECT splits,count(*) as Count, 100*count(*)/(sum(count(*)) OVER()) AS Percentage\n",
    "FROM fraud.fraud_prepped\n",
    "GROUP BY splits"
   ]
  },
  {
   "cell_type": "markdown",
   "id": "7a5b5f5a-f12d-4ea4-a2a8-7726a719433d",
   "metadata": {},
   "source": [
    "query"
   ]
  },
  {
   "cell_type": "markdown",
   "id": "17974062-6074-4d43-93b4-07cf283c4540",
   "metadata": {},
   "source": [
    "# Prediction"
   ]
  },
  {
   "cell_type": "code",
   "execution_count": 2,
   "id": "94623d38-a2eb-48f9-9850-7af749632224",
   "metadata": {},
   "outputs": [],
   "source": [
    "REGION = 'us-central1'\n",
    "PROJECT_ID = 'gcp-demo1-362917'\n",
    "DATANAME = 'fraud'\n",
    "NOTEBOOK = '01'\n",
    "\n",
    "VAR_TARGET = 'Class'\n",
    "VAR_OMIT = 'transaction_id'"
   ]
  },
  {
   "cell_type": "code",
   "execution_count": 9,
   "id": "833859ac-9bab-4b9a-8a82-f712d216793d",
   "metadata": {},
   "outputs": [],
   "source": [
    "from google.cloud import aiplatform\n",
    "from google.cloud import bigquery\n",
    "from google.protobuf import json_format\n",
    "from google.protobuf.struct_pb2 import Value\n",
    "import json\n",
    "import numpy as np"
   ]
  },
  {
   "cell_type": "code",
   "execution_count": 10,
   "id": "97f9ba5f-4293-4bd6-900b-f6b541ab1d55",
   "metadata": {},
   "outputs": [],
   "source": [
    "#set up client to get to Vertex end point\n",
    "aiplatform.init(project = PROJECT_ID, location = REGION)\n",
    "# to pull data\n",
    "bigquery = bigquery.Client()"
   ]
  },
  {
   "cell_type": "code",
   "execution_count": 11,
   "id": "f20bf543-514f-41be-9360-4870a926ed25",
   "metadata": {},
   "outputs": [],
   "source": [
    "DIR = f\"temp/{NOTEBOOK}\""
   ]
  },
  {
   "cell_type": "code",
   "execution_count": 16,
   "id": "5930ce8d-9684-4871-b54f-7c71fec9b5a2",
   "metadata": {},
   "outputs": [],
   "source": [
    "# REMOVE & CREATE NEW Folder temp in local\n",
    "!rm -rf {DIR}\n",
    "!mkdir -p {DIR}"
   ]
  },
  {
   "cell_type": "code",
   "execution_count": 17,
   "id": "6ce40a74-b721-424f-b2f7-54a77fbb67bf",
   "metadata": {},
   "outputs": [
    {
     "name": "stderr",
     "output_type": "stream",
     "text": [
      "Query complete after 0.03s: 100%|██████████| 1/1 [00:00<00:00, 361.02query/s]                          \n",
      "Downloading: 100%|██████████| 10/10 [00:01<00:00,  7.72rows/s]\n"
     ]
    }
   ],
   "source": [
    "%%bigquery pred\n",
    "\n",
    "select * from fraud.fraud_prepped where splits = 'TEST' LIMIT 10;"
   ]
  },
  {
   "cell_type": "code",
   "execution_count": 20,
   "id": "80a99946-9f79-4e77-9754-b6d178987bb4",
   "metadata": {},
   "outputs": [
    {
     "data": {
      "text/html": [
       "<div>\n",
       "<style scoped>\n",
       "    .dataframe tbody tr th:only-of-type {\n",
       "        vertical-align: middle;\n",
       "    }\n",
       "\n",
       "    .dataframe tbody tr th {\n",
       "        vertical-align: top;\n",
       "    }\n",
       "\n",
       "    .dataframe thead th {\n",
       "        text-align: right;\n",
       "    }\n",
       "</style>\n",
       "<table border=\"1\" class=\"dataframe\">\n",
       "  <thead>\n",
       "    <tr style=\"text-align: right;\">\n",
       "      <th></th>\n",
       "      <th>Time</th>\n",
       "      <th>V1</th>\n",
       "      <th>V2</th>\n",
       "      <th>V3</th>\n",
       "      <th>V4</th>\n",
       "      <th>V5</th>\n",
       "      <th>V6</th>\n",
       "      <th>V7</th>\n",
       "      <th>V8</th>\n",
       "      <th>V9</th>\n",
       "      <th>...</th>\n",
       "      <th>V23</th>\n",
       "      <th>V24</th>\n",
       "      <th>V25</th>\n",
       "      <th>V26</th>\n",
       "      <th>V27</th>\n",
       "      <th>V28</th>\n",
       "      <th>Amount</th>\n",
       "      <th>Class</th>\n",
       "      <th>transaction_id</th>\n",
       "      <th>splits</th>\n",
       "    </tr>\n",
       "  </thead>\n",
       "  <tbody>\n",
       "    <tr>\n",
       "      <th>0</th>\n",
       "      <td>118003</td>\n",
       "      <td>-0.273529</td>\n",
       "      <td>1.166143</td>\n",
       "      <td>0.274748</td>\n",
       "      <td>2.645038</td>\n",
       "      <td>1.557185</td>\n",
       "      <td>-0.016051</td>\n",
       "      <td>1.033940</td>\n",
       "      <td>-0.095862</td>\n",
       "      <td>-1.656996</td>\n",
       "      <td>...</td>\n",
       "      <td>-0.029181</td>\n",
       "      <td>-0.803796</td>\n",
       "      <td>0.003611</td>\n",
       "      <td>0.107055</td>\n",
       "      <td>-0.067756</td>\n",
       "      <td>0.001065</td>\n",
       "      <td>0.0</td>\n",
       "      <td>0</td>\n",
       "      <td>ab5caad8-4ddc-4c6f-b6dc-b74983d862e9</td>\n",
       "      <td>TEST</td>\n",
       "    </tr>\n",
       "    <tr>\n",
       "      <th>1</th>\n",
       "      <td>68497</td>\n",
       "      <td>1.134746</td>\n",
       "      <td>-0.038303</td>\n",
       "      <td>0.762562</td>\n",
       "      <td>0.719867</td>\n",
       "      <td>-0.520257</td>\n",
       "      <td>0.014614</td>\n",
       "      <td>-0.316670</td>\n",
       "      <td>0.192344</td>\n",
       "      <td>0.296568</td>\n",
       "      <td>...</td>\n",
       "      <td>0.128194</td>\n",
       "      <td>0.232815</td>\n",
       "      <td>0.199703</td>\n",
       "      <td>0.182187</td>\n",
       "      <td>-0.002852</td>\n",
       "      <td>0.003787</td>\n",
       "      <td>0.0</td>\n",
       "      <td>0</td>\n",
       "      <td>63d7a24d-3830-4eac-8edf-1138e6d3a8a4</td>\n",
       "      <td>TEST</td>\n",
       "    </tr>\n",
       "    <tr>\n",
       "      <th>2</th>\n",
       "      <td>164711</td>\n",
       "      <td>-0.205769</td>\n",
       "      <td>0.990787</td>\n",
       "      <td>1.613205</td>\n",
       "      <td>2.657047</td>\n",
       "      <td>0.466503</td>\n",
       "      <td>0.767889</td>\n",
       "      <td>0.182299</td>\n",
       "      <td>0.403098</td>\n",
       "      <td>-1.060433</td>\n",
       "      <td>...</td>\n",
       "      <td>-0.067296</td>\n",
       "      <td>-0.390004</td>\n",
       "      <td>-1.071495</td>\n",
       "      <td>-0.137284</td>\n",
       "      <td>0.244139</td>\n",
       "      <td>0.239377</td>\n",
       "      <td>0.0</td>\n",
       "      <td>0</td>\n",
       "      <td>98e8c58d-5f74-4dd0-92be-aab0f555f7d5</td>\n",
       "      <td>TEST</td>\n",
       "    </tr>\n",
       "    <tr>\n",
       "      <th>3</th>\n",
       "      <td>23224</td>\n",
       "      <td>0.969471</td>\n",
       "      <td>0.370774</td>\n",
       "      <td>1.144937</td>\n",
       "      <td>2.669094</td>\n",
       "      <td>0.472665</td>\n",
       "      <td>1.965695</td>\n",
       "      <td>-0.541647</td>\n",
       "      <td>0.531607</td>\n",
       "      <td>0.986478</td>\n",
       "      <td>...</td>\n",
       "      <td>0.291498</td>\n",
       "      <td>-1.064150</td>\n",
       "      <td>-0.069401</td>\n",
       "      <td>-0.185429</td>\n",
       "      <td>0.065354</td>\n",
       "      <td>0.010112</td>\n",
       "      <td>0.0</td>\n",
       "      <td>0</td>\n",
       "      <td>24fd4119-6b97-4f46-87a8-335963907496</td>\n",
       "      <td>TEST</td>\n",
       "    </tr>\n",
       "  </tbody>\n",
       "</table>\n",
       "<p>4 rows × 33 columns</p>\n",
       "</div>"
      ],
      "text/plain": [
       "     Time        V1        V2        V3        V4        V5        V6  \\\n",
       "0  118003 -0.273529  1.166143  0.274748  2.645038  1.557185 -0.016051   \n",
       "1   68497  1.134746 -0.038303  0.762562  0.719867 -0.520257  0.014614   \n",
       "2  164711 -0.205769  0.990787  1.613205  2.657047  0.466503  0.767889   \n",
       "3   23224  0.969471  0.370774  1.144937  2.669094  0.472665  1.965695   \n",
       "\n",
       "         V7        V8        V9  ...       V23       V24       V25       V26  \\\n",
       "0  1.033940 -0.095862 -1.656996  ... -0.029181 -0.803796  0.003611  0.107055   \n",
       "1 -0.316670  0.192344  0.296568  ...  0.128194  0.232815  0.199703  0.182187   \n",
       "2  0.182299  0.403098 -1.060433  ... -0.067296 -0.390004 -1.071495 -0.137284   \n",
       "3 -0.541647  0.531607  0.986478  ...  0.291498 -1.064150 -0.069401 -0.185429   \n",
       "\n",
       "        V27       V28  Amount  Class                        transaction_id  \\\n",
       "0 -0.067756  0.001065     0.0      0  ab5caad8-4ddc-4c6f-b6dc-b74983d862e9   \n",
       "1 -0.002852  0.003787     0.0      0  63d7a24d-3830-4eac-8edf-1138e6d3a8a4   \n",
       "2  0.244139  0.239377     0.0      0  98e8c58d-5f74-4dd0-92be-aab0f555f7d5   \n",
       "3  0.065354  0.010112     0.0      0  24fd4119-6b97-4f46-87a8-335963907496   \n",
       "\n",
       "   splits  \n",
       "0    TEST  \n",
       "1    TEST  \n",
       "2    TEST  \n",
       "3    TEST  \n",
       "\n",
       "[4 rows x 33 columns]"
      ]
     },
     "execution_count": 20,
     "metadata": {},
     "output_type": "execute_result"
    }
   ],
   "source": [
    "pred.head(4)"
   ]
  },
  {
   "cell_type": "code",
   "execution_count": null,
   "id": "706c6809-c77a-4a9e-9568-ccdfd353a5f4",
   "metadata": {},
   "outputs": [],
   "source": []
  }
 ],
 "metadata": {
  "environment": {
   "kernel": "python3",
   "name": "tf2-gpu.2-3.m96",
   "type": "gcloud",
   "uri": "gcr.io/deeplearning-platform-release/tf2-gpu.2-3:m96"
  },
  "kernelspec": {
   "display_name": "Python (Local)",
   "language": "python",
   "name": "local-base"
  },
  "language_info": {
   "codemirror_mode": {
    "name": "ipython",
    "version": 3
   },
   "file_extension": ".py",
   "mimetype": "text/x-python",
   "name": "python",
   "nbconvert_exporter": "python",
   "pygments_lexer": "ipython3",
   "version": "3.7.12"
  }
 },
 "nbformat": 4,
 "nbformat_minor": 5
}
